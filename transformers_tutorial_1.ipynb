{
 "cells": [
  {
   "cell_type": "raw",
   "source": [
    "from transformers import pipeline"
   ],
   "metadata": {
    "collapsed": false
   }
  },
  {
   "cell_type": "code",
   "execution_count": 2,
   "outputs": [
    {
     "name": "stderr",
     "output_type": "stream",
     "text": [
      "No model was supplied, defaulted to distilbert-base-uncased-finetuned-sst-2-english and revision af0f99b (https://huggingface.co/distilbert-base-uncased-finetuned-sst-2-english).\n",
      "Using a pipeline without specifying a model name and revision in production is not recommended.\n"
     ]
    },
    {
     "data": {
      "text/plain": "Downloading:   0%|          | 0.00/629 [00:00<?, ?B/s]",
      "application/vnd.jupyter.widget-view+json": {
       "version_major": 2,
       "version_minor": 0,
       "model_id": "feec845c57af4b4f82453a190d04fd64"
      }
     },
     "metadata": {},
     "output_type": "display_data"
    },
    {
     "name": "stderr",
     "output_type": "stream",
     "text": [
      "C:\\Users\\Vincent\\anaconda3\\envs\\transformers-course\\lib\\site-packages\\huggingface_hub\\file_download.py:123: UserWarning: `huggingface_hub` cache-system uses symlinks by default to efficiently store duplicated files but your machine does not support them in C:\\Users\\Vincent\\.cache\\huggingface\\hub. Caching files will still work but in a degraded version that might require more space on your disk. This warning can be disabled by setting the `HF_HUB_DISABLE_SYMLINKS_WARNING` environment variable. For more details, see https://huggingface.co/docs/huggingface_hub/how-to-cache#limitations.\n",
      "To support symlinks on Windows, you either need to activate Developer Mode or to run Python as an administrator. In order to see activate developer mode, see this article: https://docs.microsoft.com/en-us/windows/apps/get-started/enable-your-device-for-development\n",
      "  warnings.warn(message)\n"
     ]
    },
    {
     "data": {
      "text/plain": "Downloading:   0%|          | 0.00/268M [00:00<?, ?B/s]",
      "application/vnd.jupyter.widget-view+json": {
       "version_major": 2,
       "version_minor": 0,
       "model_id": "340926b695a6459f93878507dd6d2b75"
      }
     },
     "metadata": {},
     "output_type": "display_data"
    },
    {
     "data": {
      "text/plain": "Downloading:   0%|          | 0.00/48.0 [00:00<?, ?B/s]",
      "application/vnd.jupyter.widget-view+json": {
       "version_major": 2,
       "version_minor": 0,
       "model_id": "c1505b9d512c45168519948c70689e1f"
      }
     },
     "metadata": {},
     "output_type": "display_data"
    },
    {
     "data": {
      "text/plain": "Downloading:   0%|          | 0.00/232k [00:00<?, ?B/s]",
      "application/vnd.jupyter.widget-view+json": {
       "version_major": 2,
       "version_minor": 0,
       "model_id": "93b5071c6eac410eb9ac982c7c3ba579"
      }
     },
     "metadata": {},
     "output_type": "display_data"
    },
    {
     "data": {
      "text/plain": "[{'label': 'POSITIVE', 'score': 0.9598050713539124}]"
     },
     "execution_count": 2,
     "metadata": {},
     "output_type": "execute_result"
    }
   ],
   "source": [
    "classifier = pipeline(\"sentiment-analysis\")\n",
    "classifier(\"I've been waiting for a HuggingFace course my whole life.\")"
   ],
   "metadata": {
    "collapsed": false
   }
  },
  {
   "cell_type": "code",
   "execution_count": 5,
   "outputs": [
    {
     "data": {
      "text/plain": "[{'label': 'NEGATIVE', 'score': 0.9967052340507507},\n {'label': 'POSITIVE', 'score': 0.9997368454933167}]"
     },
     "execution_count": 5,
     "metadata": {},
     "output_type": "execute_result"
    }
   ],
   "source": [
    "classifier([\"Its always a problem when you can't get free food.\",\"I had a really great run yesterday.\"])"
   ],
   "metadata": {
    "collapsed": false
   }
  },
  {
   "cell_type": "code",
   "execution_count": 6,
   "outputs": [
    {
     "name": "stderr",
     "output_type": "stream",
     "text": [
      "No model was supplied, defaulted to facebook/bart-large-mnli and revision c626438 (https://huggingface.co/facebook/bart-large-mnli).\n",
      "Using a pipeline without specifying a model name and revision in production is not recommended.\n"
     ]
    },
    {
     "data": {
      "text/plain": "Downloading:   0%|          | 0.00/1.15k [00:00<?, ?B/s]",
      "application/vnd.jupyter.widget-view+json": {
       "version_major": 2,
       "version_minor": 0,
       "model_id": "a020d588a61e4686a0552828e92f6634"
      }
     },
     "metadata": {},
     "output_type": "display_data"
    },
    {
     "data": {
      "text/plain": "Downloading:   0%|          | 0.00/1.63G [00:00<?, ?B/s]",
      "application/vnd.jupyter.widget-view+json": {
       "version_major": 2,
       "version_minor": 0,
       "model_id": "06e855e8ccb847a9ba3309a141bc2b38"
      }
     },
     "metadata": {},
     "output_type": "display_data"
    },
    {
     "data": {
      "text/plain": "Downloading:   0%|          | 0.00/26.0 [00:00<?, ?B/s]",
      "application/vnd.jupyter.widget-view+json": {
       "version_major": 2,
       "version_minor": 0,
       "model_id": "0121c0fcdc24427e8392f53c33bf9d42"
      }
     },
     "metadata": {},
     "output_type": "display_data"
    },
    {
     "data": {
      "text/plain": "Downloading:   0%|          | 0.00/899k [00:00<?, ?B/s]",
      "application/vnd.jupyter.widget-view+json": {
       "version_major": 2,
       "version_minor": 0,
       "model_id": "4b57187df8ca40d3ae66405358b352c0"
      }
     },
     "metadata": {},
     "output_type": "display_data"
    },
    {
     "data": {
      "text/plain": "Downloading:   0%|          | 0.00/456k [00:00<?, ?B/s]",
      "application/vnd.jupyter.widget-view+json": {
       "version_major": 2,
       "version_minor": 0,
       "model_id": "6d62f9c9d00b4f1fbcce1437612f20ff"
      }
     },
     "metadata": {},
     "output_type": "display_data"
    },
    {
     "data": {
      "text/plain": "Downloading:   0%|          | 0.00/1.36M [00:00<?, ?B/s]",
      "application/vnd.jupyter.widget-view+json": {
       "version_major": 2,
       "version_minor": 0,
       "model_id": "0765a52645f043de82302a9100612a26"
      }
     },
     "metadata": {},
     "output_type": "display_data"
    },
    {
     "data": {
      "text/plain": "{'sequence': 'This is a course on computational bio-mechanics',\n 'labels': ['engineering', 'education', 'music'],\n 'scores': [0.7125002145767212, 0.23804756999015808, 0.04945223033428192]}"
     },
     "execution_count": 6,
     "metadata": {},
     "output_type": "execute_result"
    }
   ],
   "source": [
    "# Zero-shot classification\n",
    "classifier = pipeline(\"zero-shot-classification\")\n",
    "classifier(\n",
    "    \"This is a course on computational bio-mechanics\",\n",
    "    candidate_labels=[\"education\", \"engineering\", \"music\"]\n",
    ")"
   ],
   "metadata": {
    "collapsed": false
   }
  },
  {
   "cell_type": "code",
   "execution_count": 7,
   "outputs": [],
   "source": [
    "# model results are output as a dictionary and can be stored.\n",
    "results = classifier(\n",
    "    \"This is a course on computational bio-mechanics\",\n",
    "    candidate_labels=[\"education\", \"engineering\", \"music\"]\n",
    ")"
   ],
   "metadata": {
    "collapsed": false
   }
  },
  {
   "cell_type": "code",
   "execution_count": 11,
   "outputs": [
    {
     "data": {
      "text/plain": "Downloading:   0%|          | 0.00/762 [00:00<?, ?B/s]",
      "application/vnd.jupyter.widget-view+json": {
       "version_major": 2,
       "version_minor": 0,
       "model_id": "377d29df838f4c19b532786aef65e26e"
      }
     },
     "metadata": {},
     "output_type": "display_data"
    },
    {
     "data": {
      "text/plain": "Downloading:   0%|          | 0.00/353M [00:00<?, ?B/s]",
      "application/vnd.jupyter.widget-view+json": {
       "version_major": 2,
       "version_minor": 0,
       "model_id": "492919da3e764d5585975cd603d017ab"
      }
     },
     "metadata": {},
     "output_type": "display_data"
    },
    {
     "data": {
      "text/plain": "Downloading:   0%|          | 0.00/1.04M [00:00<?, ?B/s]",
      "application/vnd.jupyter.widget-view+json": {
       "version_major": 2,
       "version_minor": 0,
       "model_id": "62009b1019b244fa99c7e25263da08e1"
      }
     },
     "metadata": {},
     "output_type": "display_data"
    },
    {
     "data": {
      "text/plain": "Downloading:   0%|          | 0.00/456k [00:00<?, ?B/s]",
      "application/vnd.jupyter.widget-view+json": {
       "version_major": 2,
       "version_minor": 0,
       "model_id": "3a43ebd8482d4569ba03bc2204a3a0e8"
      }
     },
     "metadata": {},
     "output_type": "display_data"
    },
    {
     "data": {
      "text/plain": "Downloading:   0%|          | 0.00/1.36M [00:00<?, ?B/s]",
      "application/vnd.jupyter.widget-view+json": {
       "version_major": 2,
       "version_minor": 0,
       "model_id": "906b9ed0faaa4b9a8fcbc0265460e6e1"
      }
     },
     "metadata": {},
     "output_type": "display_data"
    },
    {
     "name": "stderr",
     "output_type": "stream",
     "text": [
      "Setting `pad_token_id` to `eos_token_id`:50256 for open-end generation.\n"
     ]
    },
    {
     "data": {
      "text/plain": "[{'generated_text': 'Computational biomechanics is about the study of the influence of force on physiology by increasing the stress in the lower extremities, especially the back'},\n {'generated_text': 'Computational biomechanics is about the study of the effects of exercise on biological function. The study of the effects of sports on body shape,'}]"
     },
     "execution_count": 11,
     "metadata": {},
     "output_type": "execute_result"
    }
   ],
   "source": [
    "# Text generation\n",
    "# Main idea here is that you provide a prompt and the model will\n",
    "# auto-complete it by generating the remaining text.\n",
    "# Note text generating involves randomness, so its normal not to get the same results.\n",
    "\n",
    "generator = pipeline(\"text-generation\", model=\"distilgpt2\")\n",
    "generator(\n",
    "    \"Computational biomechanics is about the study of\",\n",
    "    max_length=30,\n",
    "    num_return_sequences=2,\n",
    ")"
   ],
   "metadata": {
    "collapsed": false
   }
  },
  {
   "cell_type": "code",
   "execution_count": 12,
   "outputs": [
    {
     "name": "stderr",
     "output_type": "stream",
     "text": [
      "No model was supplied, defaulted to distilroberta-base and revision ec58a5b (https://huggingface.co/distilroberta-base).\n",
      "Using a pipeline without specifying a model name and revision in production is not recommended.\n"
     ]
    },
    {
     "data": {
      "text/plain": "Downloading:   0%|          | 0.00/480 [00:00<?, ?B/s]",
      "application/vnd.jupyter.widget-view+json": {
       "version_major": 2,
       "version_minor": 0,
       "model_id": "d35e94c5814248c4b56b487c8f12c6a9"
      }
     },
     "metadata": {},
     "output_type": "display_data"
    },
    {
     "data": {
      "text/plain": "Downloading:   0%|          | 0.00/331M [00:00<?, ?B/s]",
      "application/vnd.jupyter.widget-view+json": {
       "version_major": 2,
       "version_minor": 0,
       "model_id": "ba47ee97b1de4aa2b2705e458bc1fc53"
      }
     },
     "metadata": {},
     "output_type": "display_data"
    },
    {
     "data": {
      "text/plain": "Downloading:   0%|          | 0.00/899k [00:00<?, ?B/s]",
      "application/vnd.jupyter.widget-view+json": {
       "version_major": 2,
       "version_minor": 0,
       "model_id": "7425aaa0ad674e768e6685ae16d21862"
      }
     },
     "metadata": {},
     "output_type": "display_data"
    },
    {
     "data": {
      "text/plain": "Downloading:   0%|          | 0.00/456k [00:00<?, ?B/s]",
      "application/vnd.jupyter.widget-view+json": {
       "version_major": 2,
       "version_minor": 0,
       "model_id": "2d23a152afd1409ea27120731867607b"
      }
     },
     "metadata": {},
     "output_type": "display_data"
    },
    {
     "data": {
      "text/plain": "Downloading:   0%|          | 0.00/1.36M [00:00<?, ?B/s]",
      "application/vnd.jupyter.widget-view+json": {
       "version_major": 2,
       "version_minor": 0,
       "model_id": "4b47d28ccdb44d38a73ea73d86cde0c7"
      }
     },
     "metadata": {},
     "output_type": "display_data"
    },
    {
     "data": {
      "text/plain": "[{'score': 0.19619698822498322,\n  'token': 30412,\n  'token_str': ' mathematical',\n  'sequence': 'This course will teach you all about mathematical models.'},\n {'score': 0.0405270978808403,\n  'token': 38163,\n  'token_str': ' computational',\n  'sequence': 'This course will teach you all about computational models.'}]"
     },
     "execution_count": 12,
     "metadata": {},
     "output_type": "execute_result"
    }
   ],
   "source": [
    "# Mask filling\n",
    "# The idea of this task is to fill in the blanks in given text\n",
    "\n",
    "unmasker = pipeline(\"fill-mask\")\n",
    "unmasker(\"This course will teach you all about <mask> models.\", top_k=2)"
   ],
   "metadata": {
    "collapsed": false
   }
  },
  {
   "cell_type": "code",
   "execution_count": 13,
   "outputs": [
    {
     "name": "stderr",
     "output_type": "stream",
     "text": [
      "No model was supplied, defaulted to distilbert-base-cased-distilled-squad and revision 626af31 (https://huggingface.co/distilbert-base-cased-distilled-squad).\n",
      "Using a pipeline without specifying a model name and revision in production is not recommended.\n"
     ]
    },
    {
     "data": {
      "text/plain": "Downloading:   0%|          | 0.00/473 [00:00<?, ?B/s]",
      "application/vnd.jupyter.widget-view+json": {
       "version_major": 2,
       "version_minor": 0,
       "model_id": "5af13e461baf42529b29fe12d7b3374a"
      }
     },
     "metadata": {},
     "output_type": "display_data"
    },
    {
     "data": {
      "text/plain": "Downloading:   0%|          | 0.00/261M [00:00<?, ?B/s]",
      "application/vnd.jupyter.widget-view+json": {
       "version_major": 2,
       "version_minor": 0,
       "model_id": "6f61f547101941029a3ceacf298d4833"
      }
     },
     "metadata": {},
     "output_type": "display_data"
    },
    {
     "data": {
      "text/plain": "Downloading:   0%|          | 0.00/29.0 [00:00<?, ?B/s]",
      "application/vnd.jupyter.widget-view+json": {
       "version_major": 2,
       "version_minor": 0,
       "model_id": "9085fe8ed2aa46378c31b49d8c3758b3"
      }
     },
     "metadata": {},
     "output_type": "display_data"
    },
    {
     "data": {
      "text/plain": "Downloading:   0%|          | 0.00/213k [00:00<?, ?B/s]",
      "application/vnd.jupyter.widget-view+json": {
       "version_major": 2,
       "version_minor": 0,
       "model_id": "17bfe42069fd415c94dfc09f56062d6d"
      }
     },
     "metadata": {},
     "output_type": "display_data"
    },
    {
     "data": {
      "text/plain": "Downloading:   0%|          | 0.00/436k [00:00<?, ?B/s]",
      "application/vnd.jupyter.widget-view+json": {
       "version_major": 2,
       "version_minor": 0,
       "model_id": "870d23e2ee4048cbb8972822eb3fe13a"
      }
     },
     "metadata": {},
     "output_type": "display_data"
    },
    {
     "data": {
      "text/plain": "{'score': 0.985393762588501, 'start': 40, 'end': 44, 'answer': 'Mars'}"
     },
     "execution_count": 13,
     "metadata": {},
     "output_type": "execute_result"
    }
   ],
   "source": [
    "# Question and answering\n",
    "# The question and answering pipeline answers questions using\n",
    "# information from a given context. Note the answer is contained in the context.\n",
    "\n",
    "question_answer = pipeline(\"question-answering\")\n",
    "question_answer(\n",
    "    question=\"Where am I from?\",\n",
    "    context=\"I live in Cape Town but originally from Mars\",\n",
    ")"
   ],
   "metadata": {
    "collapsed": false
   }
  },
  {
   "cell_type": "code",
   "execution_count": 14,
   "outputs": [
    {
     "name": "stderr",
     "output_type": "stream",
     "text": [
      "No model was supplied, defaulted to sshleifer/distilbart-cnn-12-6 and revision a4f8f3e (https://huggingface.co/sshleifer/distilbart-cnn-12-6).\n",
      "Using a pipeline without specifying a model name and revision in production is not recommended.\n"
     ]
    },
    {
     "data": {
      "text/plain": "Downloading:   0%|          | 0.00/1.80k [00:00<?, ?B/s]",
      "application/vnd.jupyter.widget-view+json": {
       "version_major": 2,
       "version_minor": 0,
       "model_id": "28271c2ec07e4ba7aab0e09661339525"
      }
     },
     "metadata": {},
     "output_type": "display_data"
    },
    {
     "data": {
      "text/plain": "Downloading:   0%|          | 0.00/1.22G [00:00<?, ?B/s]",
      "application/vnd.jupyter.widget-view+json": {
       "version_major": 2,
       "version_minor": 0,
       "model_id": "895fadd3caef415a8b5389954ed6142b"
      }
     },
     "metadata": {},
     "output_type": "display_data"
    },
    {
     "data": {
      "text/plain": "Downloading:   0%|          | 0.00/26.0 [00:00<?, ?B/s]",
      "application/vnd.jupyter.widget-view+json": {
       "version_major": 2,
       "version_minor": 0,
       "model_id": "fda9d6509be144b7b4feb43c026ee084"
      }
     },
     "metadata": {},
     "output_type": "display_data"
    },
    {
     "data": {
      "text/plain": "Downloading:   0%|          | 0.00/899k [00:00<?, ?B/s]",
      "application/vnd.jupyter.widget-view+json": {
       "version_major": 2,
       "version_minor": 0,
       "model_id": "cdc9ac1e35c04cd08ce22f9e2a9ad9cb"
      }
     },
     "metadata": {},
     "output_type": "display_data"
    },
    {
     "data": {
      "text/plain": "Downloading:   0%|          | 0.00/456k [00:00<?, ?B/s]",
      "application/vnd.jupyter.widget-view+json": {
       "version_major": 2,
       "version_minor": 0,
       "model_id": "70f128cec2db44dba271b7d48692e973"
      }
     },
     "metadata": {},
     "output_type": "display_data"
    },
    {
     "data": {
      "text/plain": "[{'summary_text': ' Computational fluid dynamics (CFD) has been identified as a potential avenue for studying patient haemodynamics and identifying key flow metrics such as pressure, velocity, and wall shear stress . The design of patient-specific CFD pipelines that are clinically applicable requires careful consideration .'}]"
     },
     "execution_count": 14,
     "metadata": {},
     "output_type": "execute_result"
    }
   ],
   "source": [
    "# Summerization\n",
    "# Summerization is the task of reducing text into a shorter text,\n",
    "# while keeping all (or most) of its important reference aspects.\n",
    "\n",
    "summarizer = pipeline(\"summarization\")\n",
    "summarizer(\n",
    "    \"\"\"\n",
    "    Congenital heart disease (CHD) is the most common birth defect, with a global\n",
    "prevalence of approximately 9 per 1000 births. Coarctation of the aorta (CoA)\n",
    "is one of the more common forms of CHD constituting approximately 7% of\n",
    "all CHD’s [1]. CoA is defined as the narrowing of a point within the aorta,\n",
    "usually at the isthmus, which may be discrete or elongated and occurs on a\n",
    "spectrum with varying severity. This narrowing leads to increased resistance\n",
    "across the vessel thus causing upper body hypertension and reduced blood\n",
    "supply to downstream vessels and body parts. The resultant pressure difference across the coarctation is used by clinicians as a means of diagnosis, and\n",
    "is referred to as the pressure gradient. A peak systolic pressure difference of\n",
    "greater than 20 mmHg or diagnosis via imaging following hypertension, warrants intervention [2, 3]. Common treatments for CoA are balloon angioplasty,\n",
    "resection with end-to-end anastomosis (REEA) and stenting in older patients\n",
    "[2]. The overall objective of treatment is to alleviate the pressure difference\n",
    "and restore normal flow across the coarctation. However, recoarctation may\n",
    "occur post intervention and the haemodynamic environment post-surgery is a\n",
    "strong driver of this occurrence [4]. Computational fluid dynamics (CFD) has\n",
    "been identified as a potential avenue for studying patient haemodynamics and\n",
    "identifying key flow metrics such as pressure, velocity, and wall shear stress,\n",
    "ML Extraction of BCs from Doppler Echo Images for Patient Specific CoA: CFD Study with high temporal (time) and spatial resolution [5]. Another key benefit is the\n",
    "non-invasive nature of the technique. Furthermore, with the design of patient\n",
    "specific CFD pipelines, flow modelling can be specific to an individual patient.\n",
    "However, incorporating CFD within clinical workflows has been limited due to\n",
    "challenges in patient data acquisition for modelling and the skill set required\n",
    "to conduct the modelling [6]. Thus, most applications of the technique have\n",
    "mainly resided in research.\n",
    "In resource constrained settings the design of patient-specific CFD pipelines\n",
    "that are clinically applicable requires careful consideration. Patient-specific\n",
    "pipelines by their nature require data from each individual patient. The\n",
    "nature and complexity of the model therefore depends on data availability and\n",
    "acquisition, via a specific imaging modality\n",
    "    \"\"\"\n",
    ")"
   ],
   "metadata": {
    "collapsed": false
   }
  },
  {
   "cell_type": "code",
   "execution_count": null,
   "outputs": [],
   "source": [
    "summarizer(\n",
    "    \"\"\"\n",
    "    Congenital heart disease (CHD) is the most common birth defect, with a global prevalence of approximately 9 per 1000 births. Coarctation of the aorta (CoA) is one of the more common forms of CHD constituting approximately 7% of all CHD’s [1]. CoA is defined as the narrowing of a point within the aorta,\n",
    "usually at the isthmus, which may be discrete or elongated and occurs on a\n",
    "spectrum with varying severity. This narrowing leads to increased resistance\n",
    "across the vessel thus causing upper body hypertension and reduced blood\n",
    "supply to downstream vessels and body parts. The resultant pressure difference across the coarctation is used by clinicians as a means of diagnosis, and\n",
    "is referred to as the pressure gradient. A peak systolic pressure difference of\n",
    "greater than 20 mmHg or diagnosis via imaging following hypertension, warrants intervention [2, 3]. Common treatments for CoA are balloon angioplasty,\n",
    "resection with end-to-end anastomosis (REEA) and stenting in older patients\n",
    "[2]. The overall objective of treatment is to alleviate the pressure difference\n",
    "and restore normal flow across the coarctation. However, recoarctation may\n",
    "occur post intervention and the haemodynamic environment post-surgery is a\n",
    "strong driver of this occurrence [4]. Computational fluid dynamics (CFD) has\n",
    "been identified as a potential avenue for studying patient haemodynamics and\n",
    "identifying key flow metrics such as pressure, velocity, and wall shear stress,\n",
    "ML Extraction of BCs from Doppler Echo Images for Patient Specific CoA: CFD Study with high temporal (time) and spatial resolution [5]. Another key benefit is the\n",
    "non-invasive nature of the technique. Furthermore, with the design of patient\n",
    "specific CFD pipelines, flow modelling can be specific to an individual patient.\n",
    "However, incorporating CFD within clinical workflows has been limited due to\n",
    "challenges in patient data acquisition for modelling and the skill set required\n",
    "to conduct the modelling [6]. Thus, most applications of the technique have\n",
    "mainly resided in research.\n",
    "In resource constrained settings the design of patient-specific CFD pipelines\n",
    "that are clinically applicable requires careful consideration. Patient-specific\n",
    "pipelines by their nature require data from each individual patient. The\n",
    "nature and complexity of the model therefore depends on data availability and\n",
    "acquisition, via a specific imaging modality\n",
    "    \"\"\"\n",
    ")"
   ],
   "metadata": {
    "collapsed": false,
    "pycharm": {
     "is_executing": true
    }
   }
  },
  {
   "cell_type": "code",
   "execution_count": null,
   "outputs": [],
   "source": [],
   "metadata": {
    "collapsed": false
   }
  }
 ],
 "metadata": {
  "kernelspec": {
   "display_name": "Python 3",
   "language": "python",
   "name": "python3"
  },
  "language_info": {
   "codemirror_mode": {
    "name": "ipython",
    "version": 2
   },
   "file_extension": ".py",
   "mimetype": "text/x-python",
   "name": "python",
   "nbconvert_exporter": "python",
   "pygments_lexer": "ipython2",
   "version": "2.7.6"
  }
 },
 "nbformat": 4,
 "nbformat_minor": 0
}
